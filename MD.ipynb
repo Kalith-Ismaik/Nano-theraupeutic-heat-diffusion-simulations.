{
 "cells": [
  {
   "cell_type": "code",
   "execution_count": 69,
   "id": "4d9cd1a8",
   "metadata": {},
   "outputs": [],
   "source": [
    "import sys,argparse\n",
    "import pandas as pd\n",
    "from MD_file1 import *\n",
    "from MD_file2 import *"
   ]
  },
  {
   "cell_type": "code",
   "execution_count": 70,
   "id": "808283b4",
   "metadata": {},
   "outputs": [],
   "source": [
    "df_atoms , box, atomnm, resnm, resnr, elem = read_pdb('np_sol.pdb')"
   ]
  },
  {
   "cell_type": "code",
   "execution_count": 71,
   "id": "9af47139",
   "metadata": {},
   "outputs": [],
   "source": [
    "x = boundary(box, resnr, df_atoms)"
   ]
  },
  {
   "cell_type": "code",
   "execution_count": 72,
   "id": "f9463d23",
   "metadata": {},
   "outputs": [],
   "source": [
    "def stability(dt,D,dx,dz,dy):\n",
    "    \n",
    "    Von_neu = ((2*dt*D)/(dx**2)) + ((2*dt*D)/(dy**2)) + ((2*dt*D)/(dz**2))\n",
    "    if Von_neu <= 1:\n",
    "        print('Von_Neumann Stability Condition is satisfied\\n')\n",
    "        return 1\n",
    "    else:\n",
    "        print('Von_Neumann Stability Condition is not satisfied\\n')\n",
    "        return 0"
   ]
  },
  {
   "cell_type": "code",
   "execution_count": 73,
   "id": "93613225",
   "metadata": {},
   "outputs": [],
   "source": [
    "def do_timestep(u0, u, dx2, dt, D):\n",
    "    # Propagate with forward-difference in time, central-difference in space\n",
    "    u[1:-1, 1:-1, 1:-1] = u0[1:-1, 1:-1, 1:-1] + D[1:-1, 1:-1, 1:-1] * dt * (\n",
    "          (u0[2:, 1:-1, 1:-1] - 2*u0[1:-1, 1:-1, 1:-1] + u0[:-2, 1:-1, 1:-1])/dx2\n",
    "          +(u0[1:-1:, 2:, 1:-1] - 2*u0[1:-1, 1:-1, 1:-1] + u0[1:-1, :-2, 1:-1])/dx2\n",
    "          +(u0[1:-1, 1:-1, 2:] - 2*u0[1:-1, 1:-1, 1:-1] + u0[1:-1, 1:-1, :-2])/dx2)\n",
    "          \n",
    "    #u0 = u.copy()\n",
    "    return u"
   ]
  },
  {
   "cell_type": "code",
   "execution_count": 74,
   "id": "ca7a61ed",
   "metadata": {},
   "outputs": [],
   "source": [
    "def Boundary(X,T,N):\n",
    "    for ii in range(N):\n",
    "        if ii == 0 or ii == (N-1):\n",
    "            for jj in range(N):\n",
    "                for kk in range(N):\n",
    "                    X[ii,jj,kk] = T\n",
    "    for jj in range(N):\n",
    "        if jj == 0 or jj == (N-1):\n",
    "            for ii in range(N):\n",
    "                for kk in range(N):\n",
    "                    X[ii,jj,kk] = T\n",
    "    for kk in range(N):\n",
    "        if kk == 0 or kk == (N-1):\n",
    "            for ii in range(N):\n",
    "                for jj in range(N):\n",
    "                    X[ii,jj,kk] = T\n",
    "                \n",
    "    return X"
   ]
  },
  {
   "cell_type": "code",
   "execution_count": 75,
   "id": "c4f38cf2",
   "metadata": {},
   "outputs": [],
   "source": [
    "import numpy as np\n",
    "def heating(A,B,T1,T2):\n",
    "    for ii in range(nx):\n",
    "        for jj in range(ny):\n",
    "            for kk in range(nz):\n",
    "                if A[ii,jj,kk] == 10:\n",
    "                    B[ii,jj,kk] = T2\n",
    "    return B"
   ]
  },
  {
   "cell_type": "code",
   "execution_count": 76,
   "id": "9b333ec5",
   "metadata": {},
   "outputs": [],
   "source": [
    "def heat_power(r,per,perm,W,I):\n",
    "    ln = (((per-perm)/(per+(2*perm)))**2)\n",
    "    k = ((2*(math.pi)*(math.sqrt(perm)))/W)\n",
    "    Absorbtion = (((4*(math.pi)*k*(r**3))*math.log(ln))**2)\n",
    "    Absorbtion = math.sqrt(Absorbtion)\n",
    "    power = Absorbtion*I\n",
    "    return power"
   ]
  },
  {
   "cell_type": "code",
   "execution_count": 77,
   "id": "6408cd85",
   "metadata": {},
   "outputs": [],
   "source": [
    "def mass(D,rho):\n",
    "    v = ((math.pi)*(float(D**3)))/6\n",
    "    m = (rho)*v\n",
    "    return m"
   ]
  },
  {
   "cell_type": "code",
   "execution_count": 78,
   "id": "09f0ed3f",
   "metadata": {},
   "outputs": [],
   "source": [
    "def temp(P,T,t,Cp,m):\n",
    "    T_kel = (T + ((t*P)/(Cp*m)))\n",
    "    return T_kel"
   ]
  },
  {
   "cell_type": "code",
   "execution_count": 79,
   "id": "ea9da802",
   "metadata": {},
   "outputs": [
    {
     "name": "stdout",
     "output_type": "stream",
     "text": [
      "2531\n"
     ]
    }
   ],
   "source": [
    "def remove(string):\n",
    "    return string.replace(\" \", \"\")\n",
    "\n",
    "N = len(elem)\n",
    "n = 0\n",
    "for ll in range(N):\n",
    "    if remove(elem[ll]) == \"AU\":\n",
    "        n +=1\n",
    "print(n)"
   ]
  },
  {
   "cell_type": "code",
   "execution_count": 80,
   "id": "d1b5aabe",
   "metadata": {},
   "outputs": [
    {
     "name": "stdout",
     "output_type": "stream",
     "text": [
      "[40.78, 40.78, 40.78] [141.0, 141.0, 141.0]\n"
     ]
    }
   ],
   "source": [
    "np_box = []\n",
    "np_box.append(max((df_atoms['x_coords'].tolist())[:2530]) - min((df_atoms['x_coords'].tolist())[:2530]))\n",
    "np_box.append(max((df_atoms['y_coords'].tolist())[:2530]) - min((df_atoms['y_coords'].tolist())[:2530]))\n",
    "np_box.append(max((df_atoms['z_coords'].tolist())[:2530]) - min((df_atoms['z_coords'].tolist())[:2530]))\n",
    "\n",
    "print(np_box,box)"
   ]
  },
  {
   "cell_type": "code",
   "execution_count": 81,
   "id": "0fb51a37",
   "metadata": {},
   "outputs": [],
   "source": [
    "import numpy as np\n",
    "def Heat_cap(bx,bxx,A,W,M):\n",
    "    a = (A[0]/(A[1]*A[2])) * 100\n",
    "    w = (W[0]/(W[1]*W[2])) * 100\n",
    "    m = (M[0]/(M[1]*M[2])) * 100\n",
    "    ll= [a,w,m]\n",
    "    for i in range(nx):\n",
    "        for j in range(ny):\n",
    "            for k in range(nz):\n",
    "                if bx[i,j,k] == 10:\n",
    "                    bxx[i,j,k] = m\n",
    "                elif bx[i,j,k] == 0:\n",
    "                    bxx[i,j,k] = a\n",
    "                else:\n",
    "                    bxx[i,j,k] = w\n",
    "    print(a,w,m)            \n",
    "    return bxx,ll"
   ]
  },
  {
   "cell_type": "code",
   "execution_count": 87,
   "id": "7fdf530c",
   "metadata": {},
   "outputs": [
    {
     "name": "stdout",
     "output_type": "stream",
     "text": [
      "8.2768762e-22 329.64405129808125\n"
     ]
    }
   ],
   "source": [
    "import math\n",
    "import numpy as np\n",
    "\n",
    "D = (((sum(np_box))/30) * (10**(-9))) \n",
    "r = (((sum(np_box))/60) * (10**(-9))) \n",
    "\n",
    "W = 800*(10**(-9))\n",
    "per_np = 1.145\n",
    "per_w  = 1.0\n",
    "I = 0.2\n",
    "\n",
    "Cp1 = 129\n",
    "\n",
    "P1 = 1200\n",
    "\n",
    "T1 = 320.0\n",
    "             \n",
    "dt = 1\n",
    "Nt = 1001\n",
    "Tt = int(Nt/dt)\n",
    "\n",
    "power = heat_power(r,per_np,per_w,W,I)\n",
    "\n",
    "N = len(elem)\n",
    "#mass = mass(D,P1)\n",
    "mass = (n*197.0)*(1.66*(10**(-27)))\n",
    "\n",
    "T2 = temp(power,T1,1,Cp1,mass)\n",
    "\n",
    "print(mass,T2)"
   ]
  },
  {
   "cell_type": "code",
   "execution_count": 88,
   "id": "299dfc66",
   "metadata": {},
   "outputs": [
    {
     "name": "stdout",
     "output_type": "stream",
     "text": [
      "0.0019494364910143161 1.4555104780499744e-05 0.012611961280475559\n",
      "Stability of Air medium:\n",
      "Von_Neumann Stability Condition is satisfied\n",
      "\n",
      "Stability of Water Medium:\n",
      "Von_Neumann Stability Condition is satisfied\n",
      "\n",
      "Stability of Metal medium:\n",
      "Von_Neumann Stability Condition is satisfied\n",
      "\n"
     ]
    }
   ],
   "source": [
    "def remove(string):\n",
    "    return string.replace(\" \", \"\")\n",
    "\n",
    "import numpy as np\n",
    "import math\n",
    "\n",
    "N = len(elem)\n",
    "dim = nx = ny = nz = 142\n",
    "dl = dx = dy = dz = 1\n",
    "dl2 = dl*dl\n",
    "R = np.zeros((nx,ny,nz),dtype=np.float128)\n",
    "Ti = np.ones((nx,ny,nz),dtype=np.float128) * T1\n",
    "\n",
    "X = (df_atoms['x_coords'].tolist())[:]\n",
    "Y = (df_atoms['y_coords'].tolist())[:]\n",
    "Z = (df_atoms['z_coords'].tolist())[:]\n",
    "\n",
    "for l in range(N):\n",
    "    xx = math.floor(X[l])  \n",
    "    yy = math.floor(Y[l]) \n",
    "    zz = math.floor(Z[l]) \n",
    "    \n",
    "    if remove(elem[l]) == \"AU\":\n",
    "        R[xx,yy,zz] += 10\n",
    "    else:\n",
    "        R[xx,yy,zz] += 1\n",
    "        \n",
    "spc = np.zeros((nx,ny,nz),dtype=np.float128)        \n",
    "air_cp   = [0.024,1005.0,1.225]\n",
    "water_cp = [0.6089,4196.0,997.0]\n",
    "metal_cp = [314.0,129.0,19300.0]\n",
    "spc,val = Heat_cap(R,spc,air_cp,water_cp,metal_cp)\n",
    "\n",
    "print(\"Stability of Air medium:\")\n",
    "tt1 = stability(dt,val[0],dx,dz,dy)\n",
    "print(\"Stability of Water Medium:\")\n",
    "tt2 = stability(dt,val[1],dx,dz,dy)\n",
    "print(\"Stability of Metal medium:\")\n",
    "tt3 = stability(dt,val[2],dx,dz,dy)\n",
    "tt = tt1 + tt2 + tt3"
   ]
  },
  {
   "cell_type": "code",
   "execution_count": 89,
   "id": "e6ab3468",
   "metadata": {},
   "outputs": [],
   "source": [
    "Ti = Boundary(Ti,310.15,dim)\n",
    "with open(\"boundary.out\", 'w') as f:                \n",
    "    for ii in range(nx):\n",
    "        for jj in range(ny):\n",
    "            for kk in range(nz):\n",
    "                line = str(ii)+str(\" \")+str(jj)+str(\" \")+str(kk)+str(\" \")+str(Ti[ii,jj,kk])\n",
    "                f.write(line)\n",
    "                f.write('\\n')"
   ]
  },
  {
   "cell_type": "code",
   "execution_count": 66,
   "id": "4c7a502e",
   "metadata": {},
   "outputs": [],
   "source": [
    "num = 0\n",
    "for q in range(Tt):\n",
    "    Ti = heating(R,Ti,T1,T2)\n",
    "    To = Ti\n",
    "    Ti = do_timestep(To, Ti, dl2, dt, 0.1)\n",
    "    if num%100 == 0:\n",
    "        name  = str(num) + \".out\"\n",
    "    \n",
    "        with open(name, 'w') as f:                \n",
    "            for ii in range(nx):\n",
    "                for jj in range(ny):\n",
    "                    for kk in range(nz):\n",
    "                        line = str(ii)+str(\" \")+str(jj)+str(\" \")+str(kk)+str(\" \")+str(To[ii,jj,kk])\n",
    "                        f.write(line)\n",
    "                        f.write('\\n')\n",
    "    Ti = Boundary(Ti,T1,dim)\n",
    "    num += 1"
   ]
  },
  {
   "cell_type": "code",
   "execution_count": null,
   "id": "4588aa18",
   "metadata": {},
   "outputs": [],
   "source": [
    "for q in range(Tt):\n",
    "    To = Ti\n",
    "    Ti = do_timestep(To, Ti, dl2, dt, spc)\n",
    "    if num%100 == 0:\n",
    "        name  = str(num) + \".out\"\n",
    "    \n",
    "        with open(name, 'w') as f:                \n",
    "            for ii in range(nx):\n",
    "                for jj in range(ny):\n",
    "                    for kk in range(nz):\n",
    "                        line = str(ii)+str(\" \")+str(jj)+str(\" \")+str(kk)+str(\" \")+str(To[ii,jj,kk])\n",
    "                        f.write(line)\n",
    "                        f.write('\\n')\n",
    "    Ti = Boundary(Ti,T1,dim)\n",
    "    num += 1"
   ]
  },
  {
   "cell_type": "code",
   "execution_count": 40,
   "id": "ebf5e966",
   "metadata": {},
   "outputs": [],
   "source": [
    "f = open(\"100000.out\", \"r\")\n",
    "for  mm in range(1973788):\n",
    "    txt = f.readline()\n",
    "    \n",
    "    x = txt.split(\" \")\n",
    "    i1 = int(x[0])\n",
    "    j1 = int(x[1])\n",
    "    k1 = int(x[2])\n",
    "    tet = float(x[3])\n",
    "\n",
    "    Ti[i1,j1,k1] = tet"
   ]
  },
  {
   "cell_type": "code",
   "execution_count": 1,
   "id": "7a168fde",
   "metadata": {},
   "outputs": [],
   "source": [
    "#Author      : Kalith M Ismail.\n",
    "#Objective   : Molecular Dynamic simulation of heat distribution from nanomaterial to surrounding environment by photothermal excitation. \n",
    "#Organization: NRNU MEPhI___PhysBIo___Moscow__Russian Federation.\n",
    "#Date        : 10/12/2021.\n",
    "#Mentor      : Prof.Dr.Ivanov Dmitry. [University Of Kassel]"
   ]
  }
 ],
 "metadata": {
  "kernelspec": {
   "display_name": "Python 3 (ipykernel)",
   "language": "python",
   "name": "python3"
  },
  "language_info": {
   "codemirror_mode": {
    "name": "ipython",
    "version": 3
   },
   "file_extension": ".py",
   "mimetype": "text/x-python",
   "name": "python",
   "nbconvert_exporter": "python",
   "pygments_lexer": "ipython3",
   "version": "3.9.7"
  }
 },
 "nbformat": 4,
 "nbformat_minor": 5
}
